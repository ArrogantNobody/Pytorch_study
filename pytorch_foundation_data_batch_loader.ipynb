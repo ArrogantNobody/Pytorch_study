{
  "nbformat": 4,
  "nbformat_minor": 0,
  "metadata": {
    "colab": {
      "name": "pytorch_foundation_data batch loader.ipynb",
      "provenance": [],
      "authorship_tag": "ABX9TyPHYOOo1c58HZTiDHWocr2T",
      "include_colab_link": true
    },
    "kernelspec": {
      "name": "python3",
      "display_name": "Python 3"
    }
  },
  "cells": [
    {
      "cell_type": "markdown",
      "metadata": {
        "id": "view-in-github",
        "colab_type": "text"
      },
      "source": [
        "<a href=\"https://colab.research.google.com/github/ArrogantNobody/Pytorch_study/blob/main/pytorch_foundation_data_batch_loader.ipynb\" target=\"_parent\"><img src=\"https://colab.research.google.com/assets/colab-badge.svg\" alt=\"Open In Colab\"/></a>"
      ]
    },
    {
      "cell_type": "markdown",
      "metadata": {
        "id": "aNvdI7-_E4bX"
      },
      "source": [
        "Reference： https://zhuanlan.zhihu.com/p/115363495"
      ]
    },
    {
      "cell_type": "code",
      "metadata": {
        "id": "DquXvwdCErKQ"
      },
      "source": [
        "import torch\n",
        "import torch.utils.data as Data\n",
        "import matplotlib.pyplot as plt"
      ],
      "execution_count": 3,
      "outputs": []
    },
    {
      "cell_type": "code",
      "metadata": {
        "colab": {
          "base_uri": "https://localhost:8080/",
          "height": 299
        },
        "id": "AAjXqY3XFz6z",
        "outputId": "80eaeead-3745-4e78-9a8a-40ecb86c4224"
      },
      "source": [
        "BATCH_SIZE = 5\n",
        "\n",
        "x = torch.linspace(1,10,step = 10)#step number\n",
        "print(x)\n",
        "y = torch.linspace(10,1,10)\n",
        "print(y)\n",
        "plt.scatter(x,y)\n",
        "plt.show()"
      ],
      "execution_count": 6,
      "outputs": [
        {
          "output_type": "stream",
          "text": [
            "tensor([ 1.,  2.,  3.,  4.,  5.,  6.,  7.,  8.,  9., 10.])\n",
            "tensor([10.,  9.,  8.,  7.,  6.,  5.,  4.,  3.,  2.,  1.])\n"
          ],
          "name": "stdout"
        },
        {
          "output_type": "display_data",
          "data": {
            "image/png": "[encoded data removed]",
            "text/plain": [
              "<Figure size 432x288 with 1 Axes>"
            ]
          },
          "metadata": {
            "tags": [],
            "needs_background": "light"
          }
        }
      ]
    },
    {
      "cell_type": "markdown",
      "metadata": {
        "id": "WuEysZkPHgeE"
      },
      "source": [
        "classtorch.utils.data.Dataset表示Dataset的抽象类。[1]\n",
        "所有其他数据集都应该进行子类化。所有子类应该override__len__和__getitem__，前者提供了数据集的大小，后者支持整数索引，范围从0到len(self)。\n",
        "\n",
        "class torch.utils.data.TensorDataset(data_tensor, target_tensor)\n",
        "\n",
        "包装数据和目标张量的数据集。\n",
        "\n",
        "通过沿着第一个维度索引两个张量来恢复每个样本。\n",
        "\n",
        "参数：\n",
        "\n",
        "data_tensor (Tensor) －　包含样本数据\n",
        "target_tensor (Tensor) －　包含样本目标（标签）\n",
        "\n",
        "\n",
        "classtorch.utils.data.DataLoader数据加载器。组合数据集和采样器，并在数据集上提供单进程或多进程迭代器。[2]\n",
        "参数：\n",
        "\n",
        "dataset (Dataset) – 加载数据的数据集。\n",
        "batch_size (int, optional) – 每个batch加载多少个样本(默认: 1)。\n",
        "shuffle (bool, optional) – 设置为True时会在每个epoch重新打乱数据(默认: False).\n",
        "sampler (Sampler, optional) – 定义从数据集中提取样本的策略。如果指定，则忽略shuffle参数。\n",
        "num_workers (int, optional) – 用多少个子进程加载数据。0表示数据将在主进程中加载(默认: 0)\n",
        "collate_fn (callable, optional) –\n",
        "pin_memory (bool, optional) –\n",
        "drop_last (bool, optional) – 如果数据集大小不能被batch size整除，则设置为True后可删除最后一个不完整的batch。如果设为False并且数据集的大小不能被batch size整除，则最后一个batch将更小。(默认: False)"
      ]
    },
    {
      "cell_type": "code",
      "metadata": {
        "id": "NOHl1um7Hjfw"
      },
      "source": [
        "torch_dataset = Data.TensorDataset(x , y )\n",
        "loader = Data.DataLoader(\n",
        "    dataset=torch_dataset,\n",
        "    batch_size=BATCH_SIZE,\n",
        "    shuffle=True\n",
        "    )"
      ],
      "execution_count": 7,
      "outputs": []
    },
    {
      "cell_type": "code",
      "metadata": {
        "colab": {
          "base_uri": "https://localhost:8080/"
        },
        "id": "Lt4Vd9_8H_d1",
        "outputId": "87a5246d-a8a0-4dca-af27-27df366e1ab1"
      },
      "source": [
        "for epoch in range(3):\n",
        "    for step ,(batch_x,batch_y) in enumerate(loader):\n",
        "        print('Epoch:',epoch,'| step:',step,'|batch_x:',batch_x.numpy(),'|batch_y：',batch_y.numpy())"
      ],
      "execution_count": 8,
      "outputs": [
        {
          "output_type": "stream",
          "text": [
            "Epoch: 0 | step: 0 |batch_x: [6. 9. 4. 3. 1.] |batch_y： [ 5.  2.  7.  8. 10.]\n",
            "Epoch: 0 | step: 1 |batch_x: [ 7. 10.  8.  2.  5.] |batch_y： [4. 1. 3. 9. 6.]\n",
            "Epoch: 1 | step: 0 |batch_x: [5. 9. 4. 1. 2.] |batch_y： [ 6.  2.  7. 10.  9.]\n",
            "Epoch: 1 | step: 1 |batch_x: [ 8. 10.  6.  7.  3.] |batch_y： [3. 1. 5. 4. 8.]\n",
            "Epoch: 2 | step: 0 |batch_x: [ 6.  9.  1.  2. 10.] |batch_y： [ 5.  2. 10.  9.  1.]\n",
            "Epoch: 2 | step: 1 |batch_x: [4. 7. 3. 5. 8.] |batch_y： [7. 4. 8. 6. 3.]\n"
          ],
          "name": "stdout"
        }
      ]
    }
  ]
}
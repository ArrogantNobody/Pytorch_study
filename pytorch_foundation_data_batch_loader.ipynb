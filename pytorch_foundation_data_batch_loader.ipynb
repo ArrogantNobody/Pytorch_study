{
  "nbformat": 4,
  "nbformat_minor": 0,
  "metadata": {
    "colab": {
      "name": "pytorch_foundation_data batch loader.ipynb",
      "provenance": [],
      "collapsed_sections": [],
      "mount_file_id": "1K8Fi6_dLxJHszM1vZ9nk-6mC6tZOO-2R",
      "authorship_tag": "ABX9TyO01pl6LfCYMrFV8NDyu0co",
      "include_colab_link": true
    },
    "kernelspec": {
      "name": "python3",
      "display_name": "Python 3"
    }
  },
  "cells": [
    {
      "cell_type": "markdown",
      "metadata": {
        "id": "view-in-github",
        "colab_type": "text"
      },
      "source": [
        "<a href=\"https://colab.research.google.com/github/ArrogantNobody/Pytorch_study/blob/main/pytorch_foundation_data_batch_loader.ipynb\" target=\"_parent\"><img src=\"https://colab.research.google.com/assets/colab-badge.svg\" alt=\"Open In Colab\"/></a>"
      ]
    },
    {
      "cell_type": "code",
      "metadata": {
        "id": "DquXvwdCErKQ"
      },
      "source": [
        "import torch\n",
        "import torch.utils.data as Data\n",
        "import matplotlib.pyplot as plt"
      ],
      "execution_count": 1,
      "outputs": []
    },
    {
      "cell_type": "code",
      "metadata": {
        "colab": {
          "base_uri": "https://localhost:8080/",
          "height": 299
        },
        "id": "AAjXqY3XFz6z",
        "outputId": "718596ff-3bb5-4cc7-a1c9-51b93141b93a"
      },
      "source": [
        "BATCH_SIZE = 5\n",
        "\n",
        "x = torch.linspace(1,10,10)#step number\n",
        "print(x)\n",
        "y = torch.linspace(10,1,10)\n",
        "print(y)\n",
        "plt.scatter(x,y)\n",
        "plt.show()"
      ],
      "execution_count": 4,
      "outputs": [
        {
          "output_type": "stream",
          "text": [
            "tensor([ 1.,  2.,  3.,  4.,  5.,  6.,  7.,  8.,  9., 10.])\n",
            "tensor([10.,  9.,  8.,  7.,  6.,  5.,  4.,  3.,  2.,  1.])\n"
          ],
          "name": "stdout"
        },
        {
          "output_type": "display_data",
          "data": {
            "image/png": "[encoded data removed]",
            "text/plain": [
              "<Figure size 432x288 with 1 Axes>"
            ]
          },
          "metadata": {
            "tags": [],
            "needs_background": "light"
          }
        }
      ]
    },
    {
      "cell_type": "markdown",
      "metadata": {
        "id": "WuEysZkPHgeE"
      },
      "source": [
        "classtorch.utils.data.Dataset表示Dataset的抽象类。[1]\n",
        "所有其他数据集都应该进行子类化。所有子类应该override__len__和__getitem__，前者提供了数据集的大小，后者支持整数索引，范围从0到len(self)。\n",
        "\n",
        "class torch.utils.data.TensorDataset(data_tensor, target_tensor)\n",
        "\n",
        "包装数据和目标张量的数据集。\n",
        "\n",
        "通过沿着第一个维度索引两个张量来恢复每个样本。\n",
        "\n",
        "参数：\n",
        "\n",
        "data_tensor (Tensor) －　包含样本数据\n",
        "target_tensor (Tensor) －　包含样本目标（标签）\n",
        "\n",
        "\n",
        "classtorch.utils.data.DataLoader数据加载器。组合数据集和采样器，并在数据集上提供单进程或多进程迭代器。[2]\n",
        "参数：\n",
        "\n",
        "dataset (Dataset) – 加载数据的数据集。\n",
        "batch_size (int, optional) – 每个batch加载多少个样本(默认: 1)。\n",
        "**shuffle (bool, optional) – 设置为True时会在每个epoch重新打乱数据(默认: False).**\n",
        "sampler (Sampler, optional) – 定义从数据集中提取样本的策略。如果指定，则忽略shuffle参数。\n",
        "num_workers (int, optional) – 用多少个子进程加载数据。0表示数据将在主进程中加载(默认: 0)\n",
        "collate_fn (callable, optional) –\n",
        "pin_memory (bool, optional) –\n",
        "drop_last (bool, optional) – 如果数据集大小不能被batch size整除，则设置为True后可删除最后一个不完整的batch。如果设为False并且数据集的大小不能被batch size整除，则最后一个batch将更小。(默认: False)"
      ]
    },
    {
      "cell_type": "code",
      "metadata": {
        "id": "NOHl1um7Hjfw"
      },
      "source": [
        "torch_dataset = Data.TensorDataset(x , y)\n",
        "loader = Data.DataLoader(\n",
        "    dataset=torch_dataset,\n",
        "    batch_size=BATCH_SIZE,\n",
        "    shuffle=True\n",
        "    )"
      ],
      "execution_count": 10,
      "outputs": []
    },
    {
      "cell_type": "markdown",
      "metadata": {
        "id": "f0D9ecK_AWQH"
      },
      "source": [
        "step = iteration = (dataset/batchSize) * epoch"
      ]
    },
    {
      "cell_type": "code",
      "metadata": {
        "colab": {
          "base_uri": "https://localhost:8080/"
        },
        "id": "Lt4Vd9_8H_d1",
        "outputId": "b16b2d2b-4b7f-4a54-befb-7515289d4265"
      },
      "source": [
        "for epoch in range(3):\n",
        "    for step ,(batch_x,batch_y) in enumerate(loader):\n",
        "        print('Epoch:',epoch,'| step:',step,'|batch_x:',batch_x.numpy(),'|batch_y：',batch_y.numpy())"
      ],
      "execution_count": 11,
      "outputs": [
        {
          "output_type": "stream",
          "text": [
            "Epoch: 0 | step: 0 |batch_x: [2. 8. 1. 5. 3.] |batch_y： [ 9.  3. 10.  6.  8.]\n",
            "Epoch: 0 | step: 1 |batch_x: [10.  7.  4.  9.  6.] |batch_y： [1. 4. 7. 2. 5.]\n",
            "Epoch: 1 | step: 0 |batch_x: [1. 3. 8. 9. 7.] |batch_y： [10.  8.  3.  2.  4.]\n",
            "Epoch: 1 | step: 1 |batch_x: [ 5.  6. 10.  4.  2.] |batch_y： [6. 5. 1. 7. 9.]\n",
            "Epoch: 2 | step: 0 |batch_x: [10.  9.  6.  4.  1.] |batch_y： [ 1.  2.  5.  7. 10.]\n",
            "Epoch: 2 | step: 1 |batch_x: [3. 2. 8. 7. 5.] |batch_y： [8. 9. 3. 4. 6.]\n"
          ],
          "name": "stdout"
        }
      ]
    },
    {
      "cell_type": "markdown",
      "metadata": {
        "id": "51IrYzKlC0ii"
      },
      "source": [
        "pro part"
      ]
    },
    {
      "cell_type": "markdown",
      "metadata": {
        "id": "SwSXvGj9EQqd"
      },
      "source": [
        "transform=torchvision.transforms.ToTensor()起到的作用是把PIL.Image或者numpy.narray数据类型转变为torch.FloatTensor类型，shape是C*H*W，数值范围缩小为[0.0, 1.0]。"
      ]
    },
    {
      "cell_type": "code",
      "metadata": {
        "colab": {
          "base_uri": "https://localhost:8080/"
        },
        "id": "OZMcL65bC2E_",
        "outputId": "e8f9e1ad-af0c-4d30-d437-a27101c638c5"
      },
      "source": [
        "import torch\n",
        "import torchvision\n",
        "# 将数据集合下载到指定目录下\n",
        "train_dataset = torchvision.datasets.MNIST(root='./data',\n",
        "                                           train=True,\n",
        "                                           transform=torchvision.transforms.ToTensor(),\n",
        "                                           download=True)\n",
        "train_dataset"
      ],
      "execution_count": 14,
      "outputs": [
        {
          "output_type": "execute_result",
          "data": {
            "text/plain": [
              "Dataset MNIST\n",
              "    Number of datapoints: 60000\n",
              "    Root location: ./data\n",
              "    Split: Train\n",
              "    StandardTransform\n",
              "Transform: ToTensor()"
            ]
          },
          "metadata": {
            "tags": []
          },
          "execution_count": 14
        }
      ]
    },
    {
      "cell_type": "code",
      "metadata": {
        "colab": {
          "base_uri": "https://localhost:8080/"
        },
        "id": "7exxQ9fkEvko",
        "outputId": "6ac48852-49c4-4445-9fc6-038eb76a3acd"
      },
      "source": [
        "from torch.utils.data import DataLoader\n",
        "print(len(train_dataset))\n",
        "train_loader = DataLoader(dataset=train_dataset,\n",
        "                          batch_size=500,\n",
        "                          shuffle=True)\n",
        "num_epochs = 2  # 迭代次数\n",
        "total_step = len(train_dataset)/500"
      ],
      "execution_count": 16,
      "outputs": [
        {
          "output_type": "stream",
          "text": [
            "60000\n"
          ],
          "name": "stdout"
        }
      ]
    },
    {
      "cell_type": "code",
      "metadata": {
        "colab": {
          "base_uri": "https://localhost:8080/"
        },
        "id": "IPYdCZiCFLZ0",
        "outputId": "9646c76e-96d5-43ab-d7e8-3212aecc79cd"
      },
      "source": [
        "for epoch in range(num_epochs):\n",
        "    for i, (inputs, labels) in enumerate(train_loader):\n",
        "        # 这里可以放具体的模型训练\n",
        "        # 每 10 个批次展示一次\n",
        "        if (i+1) % 10 == 0:\n",
        "            print('Epoch: {}/{},Step {}/{}| Inputs {} | Labels {}'.format(epoch+1, num_epochs, i+1, total_step, inputs.shape, labels.shape))"
      ],
      "execution_count": 17,
      "outputs": [
        {
          "output_type": "stream",
          "text": [
            "Epoch: 1/2,Step 10/120.0| Inputs torch.Size([500, 1, 28, 28]) | Labels torch.Size([500])\n",
            "Epoch: 1/2,Step 20/120.0| Inputs torch.Size([500, 1, 28, 28]) | Labels torch.Size([500])\n",
            "Epoch: 1/2,Step 30/120.0| Inputs torch.Size([500, 1, 28, 28]) | Labels torch.Size([500])\n",
            "Epoch: 1/2,Step 40/120.0| Inputs torch.Size([500, 1, 28, 28]) | Labels torch.Size([500])\n",
            "Epoch: 1/2,Step 50/120.0| Inputs torch.Size([500, 1, 28, 28]) | Labels torch.Size([500])\n",
            "Epoch: 1/2,Step 60/120.0| Inputs torch.Size([500, 1, 28, 28]) | Labels torch.Size([500])\n",
            "Epoch: 1/2,Step 70/120.0| Inputs torch.Size([500, 1, 28, 28]) | Labels torch.Size([500])\n",
            "Epoch: 1/2,Step 80/120.0| Inputs torch.Size([500, 1, 28, 28]) | Labels torch.Size([500])\n",
            "Epoch: 1/2,Step 90/120.0| Inputs torch.Size([500, 1, 28, 28]) | Labels torch.Size([500])\n",
            "Epoch: 1/2,Step 100/120.0| Inputs torch.Size([500, 1, 28, 28]) | Labels torch.Size([500])\n",
            "Epoch: 1/2,Step 110/120.0| Inputs torch.Size([500, 1, 28, 28]) | Labels torch.Size([500])\n",
            "Epoch: 1/2,Step 120/120.0| Inputs torch.Size([500, 1, 28, 28]) | Labels torch.Size([500])\n",
            "Epoch: 2/2,Step 10/120.0| Inputs torch.Size([500, 1, 28, 28]) | Labels torch.Size([500])\n",
            "Epoch: 2/2,Step 20/120.0| Inputs torch.Size([500, 1, 28, 28]) | Labels torch.Size([500])\n",
            "Epoch: 2/2,Step 30/120.0| Inputs torch.Size([500, 1, 28, 28]) | Labels torch.Size([500])\n",
            "Epoch: 2/2,Step 40/120.0| Inputs torch.Size([500, 1, 28, 28]) | Labels torch.Size([500])\n",
            "Epoch: 2/2,Step 50/120.0| Inputs torch.Size([500, 1, 28, 28]) | Labels torch.Size([500])\n",
            "Epoch: 2/2,Step 60/120.0| Inputs torch.Size([500, 1, 28, 28]) | Labels torch.Size([500])\n",
            "Epoch: 2/2,Step 70/120.0| Inputs torch.Size([500, 1, 28, 28]) | Labels torch.Size([500])\n",
            "Epoch: 2/2,Step 80/120.0| Inputs torch.Size([500, 1, 28, 28]) | Labels torch.Size([500])\n",
            "Epoch: 2/2,Step 90/120.0| Inputs torch.Size([500, 1, 28, 28]) | Labels torch.Size([500])\n",
            "Epoch: 2/2,Step 100/120.0| Inputs torch.Size([500, 1, 28, 28]) | Labels torch.Size([500])\n",
            "Epoch: 2/2,Step 110/120.0| Inputs torch.Size([500, 1, 28, 28]) | Labels torch.Size([500])\n",
            "Epoch: 2/2,Step 120/120.0| Inputs torch.Size([500, 1, 28, 28]) | Labels torch.Size([500])\n"
          ],
          "name": "stdout"
        }
      ]
    },
    {
      "cell_type": "code",
      "metadata": {
        "id": "hnT4bryaGTCK"
      },
      "source": [
        "import os\n",
        "import pandas as pd\n",
        "os.chdir(\"/content/drive/MyDrive/pytorch study\")"
      ],
      "execution_count": 18,
      "outputs": []
    },
    {
      "cell_type": "code",
      "metadata": {
        "colab": {
          "base_uri": "https://localhost:8080/"
        },
        "id": "MOk97Z2oI_td",
        "outputId": "e3d1d308-185d-4848-855b-6baa65911ad8"
      },
      "source": [
        "wine = pd.read_csv(\"./data/wine.csv\",header = None)\n",
        "wine.values#除去标题的纯数据\n",
        "wine.values[:, 1:]#所有行除了第一列的所有内容\n",
        "#wine.values[:, 0]#所有行第一列\n",
        "# label = torch.from_numpy(wine.values[:, 0].reshape(-1,1))\n",
        "# label.shape"
      ],
      "execution_count": 41,
      "outputs": [
        {
          "output_type": "execute_result",
          "data": {
            "text/plain": [
              "array([['Alcohol', 'Malic.acid', 'Ash', ..., 'Hue', 'OD', 'Proline'],\n",
              "       ['14.23', '1.71', '2.43', ..., '1.04', '3.92', '1065'],\n",
              "       ['13.2', '1.78', '2.14', ..., '1.05', '3.4', '1050'],\n",
              "       ...,\n",
              "       ['13.27', '4.28', '2.26', ..., '.59', '1.56', '835'],\n",
              "       ['13.17', '2.59', '2.37', ..., '.6', '1.62', '840'],\n",
              "       ['14.13', '4.1', '2.74', ..., '.61', '1.6', '560']], dtype=object)"
            ]
          },
          "metadata": {
            "tags": []
          },
          "execution_count": 41
        }
      ]
    },
    {
      "cell_type": "code",
      "metadata": {
        "id": "Kcka7a4UJbRl"
      },
      "source": [
        "from torch.utils.data import Dataset\n",
        "from torch.utils.data import DataLoader\n",
        "class WineDataset(Dataset):\n",
        "    # 建立一个数据集合继承  Dataset 即可\n",
        "    def __init__(self):\n",
        "        # I初始化数据\n",
        "        # 以pandas的形式读入数据\n",
        "        winedata = pd.read_csv(\"./data/wine.csv\") # 读取数据\n",
        "        self.n_samples = winedata.shape[0] # 数据集大小\n",
        "        # 将 pandas 类型的数据转换成 numpy 类型\n",
        "        # size [n_samples, n_features]\n",
        "        self.x_data = torch.from_numpy(winedata.values[:, 1:]) # 特征数据\n",
        "        self.y_data = torch.from_numpy(winedata.values[:, 0].reshape(-1,1))  # size [n_samples, 1]\n",
        "    # 返回 dataset[index]\n",
        "    def __getitem__(self, index):\n",
        "        return self.x_data[index], self.y_data[index]\n",
        "    # 返回数据长度\n",
        "    def __len__(self):\n",
        "        return self.n_samples"
      ],
      "execution_count": 42,
      "outputs": []
    },
    {
      "cell_type": "code",
      "metadata": {
        "colab": {
          "base_uri": "https://localhost:8080/"
        },
        "id": "_4Y3eNKnM08L",
        "outputId": "f83e7fe1-7129-4c6f-c56d-2f06f599faec"
      },
      "source": [
        "dataset = WineDataset()\n",
        "dataset[0] # 查看样例数据"
      ],
      "execution_count": 49,
      "outputs": [
        {
          "output_type": "execute_result",
          "data": {
            "text/plain": [
              "(tensor([1.4230e+01, 1.7100e+00, 2.4300e+00, 1.5600e+01, 1.2700e+02, 2.8000e+00,\n",
              "         3.0600e+00, 2.8000e-01, 2.2900e+00, 5.6400e+00, 1.0400e+00, 3.9200e+00,\n",
              "         1.0650e+03], dtype=torch.float64), tensor([1.], dtype=torch.float64))"
            ]
          },
          "metadata": {
            "tags": []
          },
          "execution_count": 49
        }
      ]
    },
    {
      "cell_type": "code",
      "metadata": {
        "colab": {
          "base_uri": "https://localhost:8080/"
        },
        "id": "0DKuo-VuNgGd",
        "outputId": "3d1850ae-4cdb-4676-f071-8cae011129e4"
      },
      "source": [
        "# 放入DataLoader\n",
        "import math\n",
        "# 传入加载器\n",
        "train_loader = DataLoader(dataset=dataset, \n",
        "                          batch_size=4, \n",
        "                          shuffle=True)\n",
        "\n",
        "\n",
        "num_epochs = 2\n",
        "total_samples = len(dataset)\n",
        "n_iterations = math.ceil(total_samples/4) # \n",
        "print(\"该数据集合共有{}条数据，被分成了{}个批次\".format(total_samples, n_iterations))"
      ],
      "execution_count": 50,
      "outputs": [
        {
          "output_type": "stream",
          "text": [
            "该数据集合共有178条数据，被分成了45个批次\n"
          ],
          "name": "stdout"
        }
      ]
    },
    {
      "cell_type": "code",
      "metadata": {
        "colab": {
          "base_uri": "https://localhost:8080/"
        },
        "id": "gRJYx6dBQAg8",
        "outputId": "df55bad5-0509-4de2-a968-36b381f9fecc"
      },
      "source": [
        "for epoch in range(num_epochs):\n",
        "    for i, (inputs, labels) in enumerate(train_loader):\n",
        "        # 模型训练步骤\n",
        "        # 178 个样本, batch_size = 4, n_iters=178/4=44.5 -> 45 个批次\n",
        "        if (i+1) % 5 == 0:\n",
        "            print('Epoch: {}/{},Step {}/{}| Inputs {} | Labels {}'.format(epoch+1, num_epochs, i+1, n_iterations, inputs.shape, labels.shape))"
      ],
      "execution_count": 51,
      "outputs": [
        {
          "output_type": "stream",
          "text": [
            "Epoch: 1/2,Step 5/45| Inputs torch.Size([4, 13]) | Labels torch.Size([4, 1])\n",
            "Epoch: 1/2,Step 10/45| Inputs torch.Size([4, 13]) | Labels torch.Size([4, 1])\n",
            "Epoch: 1/2,Step 15/45| Inputs torch.Size([4, 13]) | Labels torch.Size([4, 1])\n",
            "Epoch: 1/2,Step 20/45| Inputs torch.Size([4, 13]) | Labels torch.Size([4, 1])\n",
            "Epoch: 1/2,Step 25/45| Inputs torch.Size([4, 13]) | Labels torch.Size([4, 1])\n",
            "Epoch: 1/2,Step 30/45| Inputs torch.Size([4, 13]) | Labels torch.Size([4, 1])\n",
            "Epoch: 1/2,Step 35/45| Inputs torch.Size([4, 13]) | Labels torch.Size([4, 1])\n",
            "Epoch: 1/2,Step 40/45| Inputs torch.Size([4, 13]) | Labels torch.Size([4, 1])\n",
            "Epoch: 1/2,Step 45/45| Inputs torch.Size([2, 13]) | Labels torch.Size([2, 1])\n",
            "Epoch: 2/2,Step 5/45| Inputs torch.Size([4, 13]) | Labels torch.Size([4, 1])\n",
            "Epoch: 2/2,Step 10/45| Inputs torch.Size([4, 13]) | Labels torch.Size([4, 1])\n",
            "Epoch: 2/2,Step 15/45| Inputs torch.Size([4, 13]) | Labels torch.Size([4, 1])\n",
            "Epoch: 2/2,Step 20/45| Inputs torch.Size([4, 13]) | Labels torch.Size([4, 1])\n",
            "Epoch: 2/2,Step 25/45| Inputs torch.Size([4, 13]) | Labels torch.Size([4, 1])\n",
            "Epoch: 2/2,Step 30/45| Inputs torch.Size([4, 13]) | Labels torch.Size([4, 1])\n",
            "Epoch: 2/2,Step 35/45| Inputs torch.Size([4, 13]) | Labels torch.Size([4, 1])\n",
            "Epoch: 2/2,Step 40/45| Inputs torch.Size([4, 13]) | Labels torch.Size([4, 1])\n",
            "Epoch: 2/2,Step 45/45| Inputs torch.Size([2, 13]) | Labels torch.Size([2, 1])\n"
          ],
          "name": "stdout"
        }
      ]
    },
    {
      "cell_type": "markdown",
      "metadata": {
        "id": "ZxS2mGASQOCa"
      },
      "source": [
        "对于一些特征类的数据, 可以一下全部读取内容, 就不需要重写Dataset类, 可以直接使用Data.TensorDataset来进行数据的导入. 例如上面的csv文件, 我们就不需要麻烦的重写Dataset类, 只需要使用TensorDataset即可."
      ]
    },
    {
      "cell_type": "code",
      "metadata": {
        "colab": {
          "base_uri": "https://localhost:8080/"
        },
        "id": "tdUeHF28QESL",
        "outputId": "69decb7d-7343-4d0f-f3da-eadc2c99be3e"
      },
      "source": [
        "winedata = pd.read_csv(\"./data/wine.csv\")\n",
        "\n",
        "x_data = torch.from_numpy(winedata.values[:, 1:]) # 特征数据\n",
        "y_data = torch.from_numpy(winedata.values[:, 0].reshape(-1,1))  # size [n_samples, 1]\n",
        "\n",
        "print(x_data.shape, y_data.shape)"
      ],
      "execution_count": 52,
      "outputs": [
        {
          "output_type": "stream",
          "text": [
            "torch.Size([178, 13]) torch.Size([178, 1])\n"
          ],
          "name": "stdout"
        }
      ]
    },
    {
      "cell_type": "code",
      "metadata": {
        "colab": {
          "base_uri": "https://localhost:8080/"
        },
        "id": "KXjUWw45Qtuu",
        "outputId": "30a393ce-224d-4203-c1ff-1a55b574d82e"
      },
      "source": [
        "dataset = torch.utils.data.TensorDataset(x_data, y_data) # 合并训练数据和目标数据\n",
        "dataset[0]"
      ],
      "execution_count": 53,
      "outputs": [
        {
          "output_type": "execute_result",
          "data": {
            "text/plain": [
              "(tensor([1.4230e+01, 1.7100e+00, 2.4300e+00, 1.5600e+01, 1.2700e+02, 2.8000e+00,\n",
              "         3.0600e+00, 2.8000e-01, 2.2900e+00, 5.6400e+00, 1.0400e+00, 3.9200e+00,\n",
              "         1.0650e+03], dtype=torch.float64), tensor([1.], dtype=torch.float64))"
            ]
          },
          "metadata": {
            "tags": []
          },
          "execution_count": 53
        }
      ]
    },
    {
      "cell_type": "code",
      "metadata": {
        "colab": {
          "base_uri": "https://localhost:8080/"
        },
        "id": "Ls3EV7s_QwzJ",
        "outputId": "dbe9d363-6f26-4d69-c278-9917e20ac07b"
      },
      "source": [
        "MINIBATCH_SIZE = 30\n",
        "train_loader = torch.utils.data.DataLoader(\n",
        "    dataset=dataset,\n",
        "    batch_size=MINIBATCH_SIZE,\n",
        "    shuffle=True,\n",
        "    num_workers=1           # set multi-work num read data\n",
        ")\n",
        "\n",
        "num_epochs = 2\n",
        "total_samples = len(dataset)\n",
        "n_iterations = math.ceil(total_samples/4) # \n",
        "print(\"该数据集合共有{}条数据，被分成了{}个批次\".format(total_samples, n_iterations))\n",
        "for epoch in range(num_epochs):\n",
        "    for i, (inputs, labels) in enumerate(train_loader):\n",
        "        # 模型训练步骤\n",
        "        # 178 个样本, batch_size = 4, n_iters=178/4=44.5 -> 45 个批次\n",
        "        if (i+1) % 5 == 0:\n",
        "            print('Epoch: {}/{},Step {}/{}| Inputs {} | Labels {}'.format(epoch+1, num_epochs, i+1, n_iterations, inputs.shape, labels.shape))"
      ],
      "execution_count": 54,
      "outputs": [
        {
          "output_type": "stream",
          "text": [
            "该数据集合共有178条数据，被分成了45个批次\n",
            "Epoch: 1/2,Step 5/45| Inputs torch.Size([30, 13]) | Labels torch.Size([30, 1])\n",
            "Epoch: 2/2,Step 5/45| Inputs torch.Size([30, 13]) | Labels torch.Size([30, 1])\n"
          ],
          "name": "stdout"
        }
      ]
    }
  ]
}
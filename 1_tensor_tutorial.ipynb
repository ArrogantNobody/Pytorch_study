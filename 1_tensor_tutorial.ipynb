{
  "nbformat": 4,
  "nbformat_minor": 0,
  "metadata": {
    "kernelspec": {
      "display_name": "Pytorch for Deeplearning",
      "language": "python",
      "name": "pytorch"
    },
    "language_info": {
      "codemirror_mode": {
        "name": "ipython",
        "version": 3
      },
      "file_extension": ".py",
      "mimetype": "text/x-python",
      "name": "python",
      "nbconvert_exporter": "python",
      "pygments_lexer": "ipython3",
      "version": "3.6.7"
    },
    "colab": {
      "name": "1_tensor_tutorial.ipynb",
      "provenance": [],
      "include_colab_link": true
    },
    "accelerator": "GPU"
  },
  "cells": [
    {
      "cell_type": "markdown",
      "metadata": {
        "id": "view-in-github",
        "colab_type": "text"
      },
      "source": [
        "<a href=\"https://colab.research.google.com/github/ArrogantNobody/Pytorch_study/blob/main/1_tensor_tutorial.ipynb\" target=\"_parent\"><img src=\"https://colab.research.google.com/assets/colab-badge.svg\" alt=\"Open In Colab\"/></a>"
      ]
    },
    {
      "cell_type": "code",
      "metadata": {
        "id": "qltXXX2zDYSs"
      },
      "source": [
        "%matplotlib inline"
      ],
      "execution_count": 1,
      "outputs": []
    },
    {
      "cell_type": "markdown",
      "metadata": {
        "id": "1YEmfFT3DYSt"
      },
      "source": [
        "\n",
        "PyTorch是什么?\n",
        "================\n",
        "\n",
        "基于Python的科学计算包，服务于以下两种场景:\n",
        "\n",
        "-  作为NumPy的替代品，可以使用GPU的强大计算能力\n",
        "-  提供最大的灵活性和高速的深度学习研究平台\n",
        "    \n",
        "\n",
        "开始\n",
        "---------------\n",
        "\n",
        "Tensors（张量）\n",
        "\n",
        "Tensors与Numpy中的 ndarrays类似，但是在PyTorch中\n",
        "Tensors 可以使用GPU进行计算.\n",
        "\n"
      ]
    },
    {
      "cell_type": "code",
      "metadata": {
        "id": "eHEA2iU9DYSt"
      },
      "source": [
        "from __future__ import print_function\n",
        "import torch"
      ],
      "execution_count": 3,
      "outputs": []
    },
    {
      "cell_type": "markdown",
      "metadata": {
        "id": "qofI2GGRDYSt"
      },
      "source": [
        "创建一个 5x3 矩阵, 但是未初始化:\n",
        "\n"
      ]
    },
    {
      "cell_type": "code",
      "metadata": {
        "colab": {
          "base_uri": "https://localhost:8080/"
        },
        "id": "1Wls8DZrDYSt",
        "outputId": "6e735213-a89c-4d66-b5f3-27dc3559300e"
      },
      "source": [
        "x = torch.empty(5, 3)\n",
        "print(x)"
      ],
      "execution_count": 4,
      "outputs": [
        {
          "output_type": "stream",
          "text": [
            "tensor([[1.5724e-35, 0.0000e+00, 3.3631e-44],\n",
            "        [0.0000e+00,        nan, 0.0000e+00],\n",
            "        [1.1578e+27, 1.1362e+30, 7.1547e+22],\n",
            "        [4.5828e+30, 1.2121e+04, 7.1846e+22],\n",
            "        [9.2198e-39, 7.0374e+22, 5.4145e-36]])\n"
          ],
          "name": "stdout"
        }
      ]
    },
    {
      "cell_type": "markdown",
      "metadata": {
        "id": "nGuTipJlDYSt"
      },
      "source": [
        "创建一个随机初始化的矩阵:\n",
        "\n"
      ]
    },
    {
      "cell_type": "code",
      "metadata": {
        "colab": {
          "base_uri": "https://localhost:8080/"
        },
        "id": "YvGDT8ptDYSu",
        "outputId": "6b66ba39-98f9-4269-d830-4f504da460f9"
      },
      "source": [
        "x = torch.rand(5, 3)\n",
        "print(x)"
      ],
      "execution_count": 7,
      "outputs": [
        {
          "output_type": "stream",
          "text": [
            "tensor([[0.2290, 0.4000, 0.6893],\n",
            "        [0.5851, 0.4852, 0.6365],\n",
            "        [0.7318, 0.5469, 0.1785],\n",
            "        [0.0668, 0.9214, 0.8821],\n",
            "        [0.0112, 0.4482, 0.2763]])\n"
          ],
          "name": "stdout"
        }
      ]
    },
    {
      "cell_type": "markdown",
      "metadata": {
        "id": "6tNYv3jLDYSu"
      },
      "source": [
        "创建一个0填充的矩阵，数据类型为long:\n",
        "\n"
      ]
    },
    {
      "cell_type": "code",
      "metadata": {
        "colab": {
          "base_uri": "https://localhost:8080/"
        },
        "id": "yrn5GqvGDYSu",
        "outputId": "1c3739a6-66fa-4576-e1df-a2af844472e2"
      },
      "source": [
        "y = torch.zeros(x.shape, dtype=torch.long)\n",
        "print(y)\n",
        "y = torch.zeros_like(x)\n",
        "print(y)"
      ],
      "execution_count": 18,
      "outputs": [
        {
          "output_type": "stream",
          "text": [
            "tensor([[0, 0, 0],\n",
            "        [0, 0, 0],\n",
            "        [0, 0, 0],\n",
            "        [0, 0, 0],\n",
            "        [0, 0, 0]])\n",
            "tensor([[0., 0., 0.],\n",
            "        [0., 0., 0.],\n",
            "        [0., 0., 0.],\n",
            "        [0., 0., 0.],\n",
            "        [0., 0., 0.]])\n"
          ],
          "name": "stdout"
        }
      ]
    },
    {
      "cell_type": "markdown",
      "metadata": {
        "id": "Md4-5F7NDYSu"
      },
      "source": [
        "创建tensor并使用现有数据初始化:\n",
        "\n"
      ]
    },
    {
      "cell_type": "code",
      "metadata": {
        "colab": {
          "base_uri": "https://localhost:8080/"
        },
        "id": "L7WHqFdGDYSu",
        "outputId": "ccea1f08-b272-40fd-d8b2-0db709ecdc09"
      },
      "source": [
        "x = torch.tensor([6.9, 3])\n",
        "print(x)"
      ],
      "execution_count": 13,
      "outputs": [
        {
          "output_type": "stream",
          "text": [
            "tensor([6.9000, 3.0000])\n"
          ],
          "name": "stdout"
        }
      ]
    },
    {
      "cell_type": "markdown",
      "metadata": {
        "id": "OdP1ZU8BDYSu"
      },
      "source": [
        "根据现有的张量创建张量。 这些方法将重用输入张量的属性，例如， dtype，除非设置新的值进行覆盖"
      ]
    },
    {
      "cell_type": "code",
      "metadata": {
        "colab": {
          "base_uri": "https://localhost:8080/"
        },
        "id": "r5RPBVSBDYSu",
        "outputId": "de11bb3c-8010-4c72-bf02-511475892b01"
      },
      "source": [
        "x = x.new_ones(5, 3, dtype=torch.double)      # new_* 方法来创建对象\n",
        "print(x)\n",
        "\n",
        "x = torch.randn_like(x, dtype=torch.float)    # 覆盖 dtype!\n",
        "print(x)                                      #  对象的size 是相同的，只是值和类型发生了变化"
      ],
      "execution_count": 15,
      "outputs": [
        {
          "output_type": "stream",
          "text": [
            "tensor([[1., 1., 1.],\n",
            "        [1., 1., 1.],\n",
            "        [1., 1., 1.],\n",
            "        [1., 1., 1.],\n",
            "        [1., 1., 1.]], dtype=torch.float64)\n",
            "tensor([[ 0.2347, -0.0876,  0.8156],\n",
            "        [ 0.1734,  1.0654,  2.3028],\n",
            "        [-0.8833, -1.4230,  0.6057],\n",
            "        [-0.9427,  0.8463,  0.4759],\n",
            "        [-1.6284,  1.3946, -0.0852]])\n"
          ],
          "name": "stdout"
        }
      ]
    },
    {
      "cell_type": "markdown",
      "metadata": {
        "id": "bQ12ejw3DYSu"
      },
      "source": [
        "获取 size\n",
        "\n",
        "***译者注：使用size方法与Numpy的shape属性返回的相同，张量也支持shape属性，后面会详细介绍***\n"
      ]
    },
    {
      "cell_type": "code",
      "metadata": {
        "colab": {
          "base_uri": "https://localhost:8080/"
        },
        "id": "9crnXP0RDYSu",
        "outputId": "34065ac7-3b6e-4d8b-beac-2ac911338d4d"
      },
      "source": [
        "print(x.size())"
      ],
      "execution_count": 19,
      "outputs": [
        {
          "output_type": "stream",
          "text": [
            "torch.Size([5, 3])\n"
          ],
          "name": "stdout"
        }
      ]
    },
    {
      "cell_type": "markdown",
      "metadata": {
        "id": "FFmXWqEHDYSu"
      },
      "source": [
        "<div class=\"alert alert-info\"><h4>Note</h4><p>``torch.Size`` 返回值是 tuple类型, 所以它支持tuple类型的所有操作.</p></div>\n",
        "\n",
        "操作\n",
        "\n",
        "操作有多种语法。 \n",
        "\n",
        "我们将看一下加法运算。\n",
        "\n",
        "加法1:"
      ]
    },
    {
      "cell_type": "code",
      "metadata": {
        "colab": {
          "base_uri": "https://localhost:8080/"
        },
        "id": "gJHq4--JDYSu",
        "outputId": "1b786ebf-1d60-42a3-b13a-626608aa7730"
      },
      "source": [
        "y = torch.rand(5, 3)\n",
        "print(x + y)"
      ],
      "execution_count": 20,
      "outputs": [
        {
          "output_type": "stream",
          "text": [
            "tensor([[ 0.4775,  0.5573,  1.6824],\n",
            "        [ 0.7376,  1.2572,  3.1934],\n",
            "        [-0.0463, -1.1959,  0.8428],\n",
            "        [ 0.0172,  1.4428,  1.2709],\n",
            "        [-0.7631,  1.4210,  0.0760]])\n"
          ],
          "name": "stdout"
        }
      ]
    },
    {
      "cell_type": "markdown",
      "metadata": {
        "id": "7mJVExZtDYSu"
      },
      "source": [
        "加法2\n"
      ]
    },
    {
      "cell_type": "code",
      "metadata": {
        "colab": {
          "base_uri": "https://localhost:8080/"
        },
        "id": "e2bQIJLVDYSu",
        "outputId": "5e796519-1e07-4f7c-8e32-1e60e0cc0353"
      },
      "source": [
        "print(torch.add(x, y))"
      ],
      "execution_count": 21,
      "outputs": [
        {
          "output_type": "stream",
          "text": [
            "tensor([[ 0.4775,  0.5573,  1.6824],\n",
            "        [ 0.7376,  1.2572,  3.1934],\n",
            "        [-0.0463, -1.1959,  0.8428],\n",
            "        [ 0.0172,  1.4428,  1.2709],\n",
            "        [-0.7631,  1.4210,  0.0760]])\n"
          ],
          "name": "stdout"
        }
      ]
    },
    {
      "cell_type": "markdown",
      "metadata": {
        "id": "NqSI7c1PDYSu"
      },
      "source": [
        "提供输出tensor作为参数\n",
        "\n"
      ]
    },
    {
      "cell_type": "code",
      "metadata": {
        "colab": {
          "base_uri": "https://localhost:8080/"
        },
        "id": "GVX7W1xmDYSu",
        "outputId": "6d795964-5722-4995-cbc8-a41fdf354623"
      },
      "source": [
        "result = torch.empty(5, 3)\n",
        "torch.add(x, y, out=result)\n",
        "print(result)"
      ],
      "execution_count": 22,
      "outputs": [
        {
          "output_type": "stream",
          "text": [
            "tensor([[ 0.4775,  0.5573,  1.6824],\n",
            "        [ 0.7376,  1.2572,  3.1934],\n",
            "        [-0.0463, -1.1959,  0.8428],\n",
            "        [ 0.0172,  1.4428,  1.2709],\n",
            "        [-0.7631,  1.4210,  0.0760]])\n"
          ],
          "name": "stdout"
        }
      ]
    },
    {
      "cell_type": "markdown",
      "metadata": {
        "id": "WEaKzPSrDYSu"
      },
      "source": [
        "替换\n",
        "\n"
      ]
    },
    {
      "cell_type": "code",
      "metadata": {
        "colab": {
          "base_uri": "https://localhost:8080/"
        },
        "id": "sBZc0afFDYSu",
        "outputId": "c5039ba2-44e6-412b-b1e1-b22c01501388"
      },
      "source": [
        "# adds x to y\n",
        "y.add_(x)\n",
        "print(y)"
      ],
      "execution_count": 23,
      "outputs": [
        {
          "output_type": "stream",
          "text": [
            "tensor([[ 0.4775,  0.5573,  1.6824],\n",
            "        [ 0.7376,  1.2572,  3.1934],\n",
            "        [-0.0463, -1.1959,  0.8428],\n",
            "        [ 0.0172,  1.4428,  1.2709],\n",
            "        [-0.7631,  1.4210,  0.0760]])\n"
          ],
          "name": "stdout"
        }
      ]
    },
    {
      "cell_type": "markdown",
      "metadata": {
        "id": "rUonSp_SDYSu"
      },
      "source": [
        "<div class=\"alert alert-info\"><h4>Note</h4><p>任何 以``_`` 结尾的操作都会用结果替换原变量.\n",
        "    例如: ``x.copy_(y)``, ``x.t_()``, 都会改变 ``x``.</p></div>\n",
        "\n",
        "你可以使用与NumPy索引方式相同的操作来进行对张量的操作\n",
        "\n"
      ]
    },
    {
      "cell_type": "code",
      "metadata": {
        "colab": {
          "base_uri": "https://localhost:8080/"
        },
        "id": "lka0_48nDYSu",
        "outputId": "66d9250b-34fa-4a0c-d581-44ae1ab2dacb"
      },
      "source": [
        "print(x)\n",
        "print(x[:, 1])"
      ],
      "execution_count": 24,
      "outputs": [
        {
          "output_type": "stream",
          "text": [
            "tensor([[ 0.2347, -0.0876,  0.8156],\n",
            "        [ 0.1734,  1.0654,  2.3028],\n",
            "        [-0.8833, -1.4230,  0.6057],\n",
            "        [-0.9427,  0.8463,  0.4759],\n",
            "        [-1.6284,  1.3946, -0.0852]])\n",
            "tensor([-0.0876,  1.0654, -1.4230,  0.8463,  1.3946])\n"
          ],
          "name": "stdout"
        }
      ]
    },
    {
      "cell_type": "markdown",
      "metadata": {
        "id": "J4834x3dDYSu"
      },
      "source": [
        "``torch.view``: 可以改变张量的维度和大小\n",
        "\n",
        "***译者注：torch.view 与Numpy的reshape类似***\n",
        "\n"
      ]
    },
    {
      "cell_type": "code",
      "metadata": {
        "colab": {
          "base_uri": "https://localhost:8080/"
        },
        "id": "5R5AfTTLDYSu",
        "outputId": "eca976ae-3048-4542-e14a-f01ea1cdd1aa"
      },
      "source": [
        "x = torch.randn(4, 4)\n",
        "y = x.view(16)\n",
        "z = x.view(-1, 8)  #  size -1 从其他维度推断,总维度除以另一维度\n",
        "print(x.size(), y.size(), z.size())\n",
        "print(z)"
      ],
      "execution_count": 7,
      "outputs": [
        {
          "output_type": "stream",
          "text": [
            "torch.Size([4, 4]) torch.Size([16]) torch.Size([2, 8])\n",
            "tensor([[ 0.6785, -1.4424, -0.6933, -0.3559, -0.4031,  0.0981, -0.0667,  0.3641],\n",
            "        [ 1.1069, -0.4504,  1.2094,  0.1160, -0.2887, -1.7597,  0.0738, -0.0562]])\n"
          ],
          "name": "stdout"
        }
      ]
    },
    {
      "cell_type": "markdown",
      "metadata": {
        "id": "imllNPNLDYSv"
      },
      "source": [
        "如果你有只有一个元素的张量，使用``.item()``来得到Python数据类型的数值\n"
      ]
    },
    {
      "cell_type": "code",
      "metadata": {
        "colab": {
          "base_uri": "https://localhost:8080/"
        },
        "id": "QaUT1JaDDYSv",
        "outputId": "e4935952-e507-4125-a144-518235cee0c8"
      },
      "source": [
        "x = torch.randn(1)\n",
        "print(x)\n",
        "print(x.item())\n",
        "print(x.data)"
      ],
      "execution_count": 28,
      "outputs": [
        {
          "output_type": "stream",
          "text": [
            "tensor([0.3699])\n",
            "0.3699162006378174\n",
            "tensor([0.3699])\n"
          ],
          "name": "stdout"
        }
      ]
    },
    {
      "cell_type": "markdown",
      "metadata": {
        "id": "AoauWag5DYSv"
      },
      "source": [
        "**Read later:**\n",
        "\n",
        "\n",
        "  100+ Tensor operations, including transposing, indexing, slicing,\n",
        "  mathematical operations, linear algebra, random numbers, etc.,\n",
        "  are described\n",
        "  `here <https://pytorch.org/docs/torch>`_.\n",
        "\n",
        "NumPy 转换\n",
        "------------\n",
        "\n",
        "将一个Torch Tensor转换为NumPy数组是一件轻松的事，反之亦然。\n",
        "\n",
        "Torch Tensor与NumPy数组共享底层内存地址，修改一个会导致另一个的变化。\n",
        "\n",
        "将一个Torch Tensor转换为NumPy数组\n",
        "\n"
      ]
    },
    {
      "cell_type": "code",
      "metadata": {
        "colab": {
          "base_uri": "https://localhost:8080/"
        },
        "id": "9s2qprU9DYSv",
        "outputId": "78555723-998c-4235-e25b-29c9ae4746a6"
      },
      "source": [
        "a = torch.ones(5)\n",
        "print(a)"
      ],
      "execution_count": 29,
      "outputs": [
        {
          "output_type": "stream",
          "text": [
            "tensor([1., 1., 1., 1., 1.])\n"
          ],
          "name": "stdout"
        }
      ]
    },
    {
      "cell_type": "code",
      "metadata": {
        "colab": {
          "base_uri": "https://localhost:8080/"
        },
        "id": "6EgxIUIbDYSv",
        "outputId": "16b6c046-0d7c-468b-c236-37d121f74e05"
      },
      "source": [
        "b = a.numpy()\n",
        "print(b)"
      ],
      "execution_count": 31,
      "outputs": [
        {
          "output_type": "stream",
          "text": [
            "[1. 1. 1. 1. 1.]\n"
          ],
          "name": "stdout"
        }
      ]
    },
    {
      "cell_type": "markdown",
      "metadata": {
        "id": "boHn3OkeDYSv"
      },
      "source": [
        "观察numpy数组的值是如何改变的。\n",
        "\n"
      ]
    },
    {
      "cell_type": "code",
      "metadata": {
        "colab": {
          "base_uri": "https://localhost:8080/"
        },
        "id": "hOvHGlpbDYSv",
        "outputId": "3d101cb4-7220-4041-f780-bc145de136d6"
      },
      "source": [
        "a.add_(1)\n",
        "print(a)\n",
        "print(b)"
      ],
      "execution_count": 32,
      "outputs": [
        {
          "output_type": "stream",
          "text": [
            "tensor([2., 2., 2., 2., 2.])\n",
            "[2. 2. 2. 2. 2.]\n"
          ],
          "name": "stdout"
        }
      ]
    },
    {
      "cell_type": "markdown",
      "metadata": {
        "id": "YlgjmBTRDYSv"
      },
      "source": [
        " NumPy Array 转化成 Torch Tensor\n",
        "\n",
        "使用from_numpy自动转化\n",
        "\n"
      ]
    },
    {
      "cell_type": "code",
      "metadata": {
        "colab": {
          "base_uri": "https://localhost:8080/"
        },
        "id": "xWf2YTitDYSv",
        "outputId": "15562b1d-f7bc-4395-8033-1783e1db1462"
      },
      "source": [
        "import numpy as np\n",
        "a = np.ones(5)\n",
        "b = torch.from_numpy(a)\n",
        "np.add(a, 1, out=a)\n",
        "print(a)\n",
        "print(b)"
      ],
      "execution_count": 5,
      "outputs": [
        {
          "output_type": "stream",
          "text": [
            "[2. 2. 2. 2. 2.]\n",
            "tensor([2., 2., 2., 2., 2.], dtype=torch.float64)\n"
          ],
          "name": "stdout"
        }
      ]
    },
    {
      "cell_type": "markdown",
      "metadata": {
        "id": "LXwof4NaDYSv"
      },
      "source": [
        "\n",
        "所有的 Tensor 类型默认都是基于CPU， CharTensor 类型不支持到\n",
        "NumPy 的转换.\n",
        "CUDA 张量\n",
        "------------\n",
        "\n",
        "使用``.to`` 方法 可以将Tensor移动到任何设备中\n",
        "\n"
      ]
    },
    {
      "cell_type": "code",
      "metadata": {
        "scrolled": true,
        "colab": {
          "base_uri": "https://localhost:8080/"
        },
        "id": "bp4ZmPEaDYSv",
        "outputId": "5116efd5-ca30-4a33-f093-bac15549b71f"
      },
      "source": [
        "# is_available 函数判断是否有cuda可以使用\n",
        "# ``torch.device``将张量移动到指定的设备中\n",
        "if torch.cuda.is_available():\n",
        "    device = torch.device(\"cuda\")          # a CUDA 设备对象\n",
        "    y = torch.ones_like(x, device=device)  # 直接从GPU创建张量\n",
        "    x = x.to(device)                       # 或者直接使用``.to(\"cuda\")``将张量移动到cuda中\n",
        "    z = x + y\n",
        "    print(z)\n",
        "    print(z.to(\"cpu\", torch.double))       # ``.to`` 也会对变量的类型做更改\n",
        "    print(z.cpu())"
      ],
      "execution_count": 9,
      "outputs": [
        {
          "output_type": "stream",
          "text": [
            "tensor([[ 1.6785, -0.4424,  0.3067,  0.6441],\n",
            "        [ 0.5969,  1.0981,  0.9333,  1.3641],\n",
            "        [ 2.1069,  0.5496,  2.2094,  1.1160],\n",
            "        [ 0.7113, -0.7597,  1.0738,  0.9438]], device='cuda:0')\n",
            "tensor([[ 1.6785, -0.4424,  0.3067,  0.6441],\n",
            "        [ 0.5969,  1.0981,  0.9333,  1.3641],\n",
            "        [ 2.1069,  0.5496,  2.2094,  1.1160],\n",
            "        [ 0.7113, -0.7597,  1.0738,  0.9438]], dtype=torch.float64)\n",
            "tensor([[ 1.6785, -0.4424,  0.3067,  0.6441],\n",
            "        [ 0.5969,  1.0981,  0.9333,  1.3641],\n",
            "        [ 2.1069,  0.5496,  2.2094,  1.1160],\n",
            "        [ 0.7113, -0.7597,  1.0738,  0.9438]])\n"
          ],
          "name": "stdout"
        }
      ]
    }
  ]
}